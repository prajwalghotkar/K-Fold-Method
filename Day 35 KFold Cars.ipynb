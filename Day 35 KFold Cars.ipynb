{
 "cells": [
  {
   "cell_type": "code",
   "execution_count": 23,
   "metadata": {},
   "outputs": [],
   "source": [
    "# Cross Validation Data: mtcrs_for_manymerge.csv\n",
    "\n",
    "# Import Libraries\n",
    "\n",
    "import numpy as np\n",
    "import pandas as pd\n",
    "from sklearn.model_selection import train_test_split\n",
    "from sklearn.neighbors import KNeighborsClassifier\n",
    "from sklearn import metrics\n",
    "import os\n"
   ]
  },
  {
   "cell_type": "code",
   "execution_count": 24,
   "metadata": {},
   "outputs": [
    {
     "data": {
      "text/plain": [
       "'C:\\\\Users\\\\HP\\\\Downloads\\\\Batch 93 Day35'"
      ]
     },
     "execution_count": 24,
     "metadata": {},
     "output_type": "execute_result"
    }
   ],
   "source": [
    "os.getcwd()"
   ]
  },
  {
   "cell_type": "code",
   "execution_count": 25,
   "metadata": {},
   "outputs": [],
   "source": [
    "# Load the data set\n",
    "\n",
    "os.chdir('C:\\\\Users\\\\HP\\\\Downloads\\\\Batch 93 Day35\\\\')"
   ]
  },
  {
   "cell_type": "code",
   "execution_count": 26,
   "metadata": {},
   "outputs": [
    {
     "data": {
      "text/plain": [
       "'C:\\\\Users\\\\HP\\\\Downloads\\\\Batch 93 Day35'"
      ]
     },
     "execution_count": 26,
     "metadata": {},
     "output_type": "execute_result"
    }
   ],
   "source": [
    "os.getcwd()"
   ]
  },
  {
   "cell_type": "code",
   "execution_count": 27,
   "metadata": {},
   "outputs": [
    {
     "name": "stdout",
     "output_type": "stream",
     "text": [
      "(21, 7)\n",
      "                   Cars   mpg  cyl   disp   hp  drat  Feedback\n",
      "0              MazdaRX4  21.0    6  160.0  110  3.90         1\n",
      "1          MazdaRX4_WAG  21.0    6  160.0  110  3.90         0\n",
      "2            Datsun_710  22.8    4  108.0   93  3.85         1\n",
      "3        Hornet_4_Drive  21.4    6  258.0  110  3.08         1\n",
      "4     Hornet_Sportabout  18.7    8  360.0  175  3.15         1\n",
      "5               Valiant  18.1    6  225.0  105  2.76         1\n",
      "6            Duster_360  14.3    8  360.0  245  3.21         0\n",
      "7             Merc_240D  24.4    4  146.7   62  3.69         0\n",
      "8              Merc_230  22.8    4  140.8   95  3.92         1\n",
      "9              Merc_280  19.2    6  167.6  123  3.92         0\n",
      "10            Merc_280C  17.8    6  167.6  123  3.92         0\n",
      "11           Merc_450SE  16.4    8  275.8  180  3.07         0\n",
      "12           Merc_450SL  17.3    8  275.8  180  3.07         1\n",
      "13          Merc_450SLC  15.2    8  275.8  180  3.07         1\n",
      "14   Cadillac_Fleetwood  10.4    8  472.0  205  2.93         1\n",
      "15  Lincoln_Continental  10.4    8  460.0  215  3.00         0\n",
      "16    Chrysler_Imperial  14.7    8  440.0  230  3.23         1\n",
      "17             Fiat_128  32.4    4   78.7   66  4.08         1\n",
      "18          Honda_Civic  30.4    4   75.7   52  4.93         0\n",
      "19       Toyota_Corolla  33.9    4   71.1   65  4.22         0\n",
      "20        Toyota_Corona  21.5    4  120.1   97  3.70         0\n"
     ]
    }
   ],
   "source": [
    "df=pd.read_csv('mtcars_for_manymerge.csv')\n",
    "print(df.shape)\n",
    "print(df)"
   ]
  },
  {
   "cell_type": "code",
   "execution_count": 28,
   "metadata": {},
   "outputs": [
    {
     "name": "stdout",
     "output_type": "stream",
     "text": [
      "[[ 21.     6.   160.   110.     3.9 ]\n",
      " [ 21.     6.   160.   110.     3.9 ]\n",
      " [ 22.8    4.   108.    93.     3.85]\n",
      " [ 21.4    6.   258.   110.     3.08]\n",
      " [ 18.7    8.   360.   175.     3.15]\n",
      " [ 18.1    6.   225.   105.     2.76]\n",
      " [ 14.3    8.   360.   245.     3.21]\n",
      " [ 24.4    4.   146.7   62.     3.69]\n",
      " [ 22.8    4.   140.8   95.     3.92]\n",
      " [ 19.2    6.   167.6  123.     3.92]\n",
      " [ 17.8    6.   167.6  123.     3.92]\n",
      " [ 16.4    8.   275.8  180.     3.07]\n",
      " [ 17.3    8.   275.8  180.     3.07]\n",
      " [ 15.2    8.   275.8  180.     3.07]\n",
      " [ 10.4    8.   472.   205.     2.93]\n",
      " [ 10.4    8.   460.   215.     3.  ]\n",
      " [ 14.7    8.   440.   230.     3.23]\n",
      " [ 32.4    4.    78.7   66.     4.08]\n",
      " [ 30.4    4.    75.7   52.     4.93]\n",
      " [ 33.9    4.    71.1   65.     4.22]\n",
      " [ 21.5    4.   120.1   97.     3.7 ]]\n"
     ]
    }
   ],
   "source": [
    "# Split the Data Between X and Y\n",
    "\n",
    "x=df.iloc[:,1:-1].values\n",
    "print(x)"
   ]
  },
  {
   "cell_type": "code",
   "execution_count": 29,
   "metadata": {},
   "outputs": [
    {
     "name": "stdout",
     "output_type": "stream",
     "text": [
      "[1 0 1 1 1 1 0 0 1 0 0 0 1 1 1 0 1 1 0 0 0]\n"
     ]
    }
   ],
   "source": [
    "y=df.iloc[:,-1].values\n",
    "print(y)"
   ]
  },
  {
   "cell_type": "code",
   "execution_count": 30,
   "metadata": {},
   "outputs": [
    {
     "name": "stdout",
     "output_type": "stream",
     "text": [
      "(15, 5)\n",
      "(6, 5)\n"
     ]
    },
    {
     "data": {
      "text/plain": [
       "0.3333333333333333"
      ]
     },
     "execution_count": 30,
     "metadata": {},
     "output_type": "execute_result"
    }
   ],
   "source": [
    "# Train test split and model create KNN - split ratio - default 25% without random state\n",
    "'''execute multiple times and accuracy get change '''\n",
    "\n",
    "from sklearn.model_selection import train_test_split\n",
    "x_train,x_test,y_train,y_test=train_test_split(x,y)\n",
    "print(x_train.shape)\n",
    "print(x_test.shape)\n",
    "knn=KNeighborsClassifier(n_neighbors=4)\n",
    "knn.fit(x_train,y_train)\n",
    "y_pred=knn.predict(x_test)\n",
    "metrics.accuracy_score(y_test,y_pred)\n",
    " "
   ]
  },
  {
   "cell_type": "code",
   "execution_count": 31,
   "metadata": {},
   "outputs": [
    {
     "name": "stdout",
     "output_type": "stream",
     "text": [
      "(15, 5)\n",
      "(6, 5)\n"
     ]
    },
    {
     "data": {
      "text/plain": [
       "0.5"
      ]
     },
     "execution_count": 31,
     "metadata": {},
     "output_type": "execute_result"
    }
   ],
   "source": [
    "# Train test split and model create KNN - split ratio - default 25% without random state\n",
    "'''execute multiple times and accuracy get change '''\n",
    "\n",
    "from sklearn.model_selection import train_test_split\n",
    "x_train,x_test,y_train,y_test=train_test_split(x,y)\n",
    "print(x_train.shape)\n",
    "print(x_test.shape)\n",
    "knn=KNeighborsClassifier(n_neighbors=4)\n",
    "knn.fit(x_train,y_train)\n",
    "y_pred=knn.predict(x_test)\n",
    "metrics.accuracy_score(y_test,y_pred)\n",
    " "
   ]
  },
  {
   "cell_type": "code",
   "execution_count": 32,
   "metadata": {},
   "outputs": [
    {
     "name": "stdout",
     "output_type": "stream",
     "text": [
      "(15, 5)\n",
      "(6, 5)\n"
     ]
    },
    {
     "data": {
      "text/plain": [
       "0.3333333333333333"
      ]
     },
     "execution_count": 32,
     "metadata": {},
     "output_type": "execute_result"
    }
   ],
   "source": [
    "# Train test split and model create KNN - split ratio - default 25% without random state\n",
    "'''execute multiple times and accuracy get change '''\n",
    "\n",
    "from sklearn.model_selection import train_test_split\n",
    "x_train,x_test,y_train,y_test=train_test_split(x,y)\n",
    "print(x_train.shape)\n",
    "print(x_test.shape)\n",
    "knn=KNeighborsClassifier(n_neighbors=4)\n",
    "knn.fit(x_train,y_train)\n",
    "y_pred=knn.predict(x_test)\n",
    "metrics.accuracy_score(y_test,y_pred)\n",
    " "
   ]
  },
  {
   "cell_type": "code",
   "execution_count": 33,
   "metadata": {},
   "outputs": [
    {
     "name": "stdout",
     "output_type": "stream",
     "text": [
      "(15, 5)\n",
      "(6, 5)\n"
     ]
    },
    {
     "data": {
      "text/plain": [
       "0.3333333333333333"
      ]
     },
     "execution_count": 33,
     "metadata": {},
     "output_type": "execute_result"
    }
   ],
   "source": [
    "# Train test split and model create KNN - split ratio - default 25% without random state\n",
    "'''execute multiple times and accuracy get change '''\n",
    "\n",
    "from sklearn.model_selection import train_test_split\n",
    "x_train,x_test,y_train,y_test=train_test_split(x,y)\n",
    "print(x_train.shape)\n",
    "print(x_test.shape)\n",
    "knn=KNeighborsClassifier(n_neighbors=4)\n",
    "knn.fit(x_train,y_train)\n",
    "y_pred=knn.predict(x_test)\n",
    "metrics.accuracy_score(y_test,y_pred)\n",
    " "
   ]
  },
  {
   "cell_type": "code",
   "execution_count": 34,
   "metadata": {},
   "outputs": [
    {
     "name": "stdout",
     "output_type": "stream",
     "text": [
      "(15, 5)\n",
      "(6, 5)\n"
     ]
    },
    {
     "data": {
      "text/plain": [
       "0.6666666666666666"
      ]
     },
     "execution_count": 34,
     "metadata": {},
     "output_type": "execute_result"
    }
   ],
   "source": [
    "# Train test split and model create KNN - split ratio - default 25% without random state\n",
    "'''execute multiple times and accuracy get change '''\n",
    "\n",
    "from sklearn.model_selection import train_test_split\n",
    "x_train,x_test,y_train,y_test=train_test_split(x,y)\n",
    "print(x_train.shape)\n",
    "print(x_test.shape)\n",
    "knn=KNeighborsClassifier(n_neighbors=4)\n",
    "knn.fit(x_train,y_train)\n",
    "y_pred=knn.predict(x_test)\n",
    "metrics.accuracy_score(y_test,y_pred)\n",
    " "
   ]
  },
  {
   "cell_type": "code",
   "execution_count": 35,
   "metadata": {},
   "outputs": [
    {
     "name": "stdout",
     "output_type": "stream",
     "text": [
      "(15, 5)\n",
      "(6, 5)\n"
     ]
    },
    {
     "data": {
      "text/plain": [
       "0.5"
      ]
     },
     "execution_count": 35,
     "metadata": {},
     "output_type": "execute_result"
    }
   ],
   "source": [
    "# Train test split and model create KNN - split ratio - default 25% without random state\n",
    "'''execute multiple times and accuracy get change '''\n",
    "\n",
    "from sklearn.model_selection import train_test_split\n",
    "x_train,x_test,y_train,y_test=train_test_split(x,y)\n",
    "print(x_train.shape)\n",
    "print(x_test.shape)\n",
    "knn=KNeighborsClassifier(n_neighbors=4)\n",
    "knn.fit(x_train,y_train)\n",
    "y_pred=knn.predict(x_test)\n",
    "metrics.accuracy_score(y_test,y_pred)\n",
    " "
   ]
  },
  {
   "cell_type": "code",
   "execution_count": 36,
   "metadata": {},
   "outputs": [
    {
     "name": "stdout",
     "output_type": "stream",
     "text": [
      "(15, 5)\n",
      "(6, 5)\n"
     ]
    },
    {
     "data": {
      "text/plain": [
       "0.5"
      ]
     },
     "execution_count": 36,
     "metadata": {},
     "output_type": "execute_result"
    }
   ],
   "source": [
    "# Train test split and model create KNN - split ratio - default 25% without random state\n",
    "'''execute multiple times and accuracy get change '''\n",
    "\n",
    "from sklearn.model_selection import train_test_split\n",
    "x_train,x_test,y_train,y_test=train_test_split(x,y)\n",
    "print(x_train.shape)\n",
    "print(x_test.shape)\n",
    "knn=KNeighborsClassifier(n_neighbors=4)\n",
    "knn.fit(x_train,y_train)\n",
    "y_pred=knn.predict(x_test)\n",
    "metrics.accuracy_score(y_test,y_pred)\n",
    " "
   ]
  },
  {
   "cell_type": "code",
   "execution_count": 37,
   "metadata": {},
   "outputs": [
    {
     "name": "stdout",
     "output_type": "stream",
     "text": [
      "(15, 5)\n",
      "(6, 5)\n"
     ]
    },
    {
     "data": {
      "text/plain": [
       "0.3333333333333333"
      ]
     },
     "execution_count": 37,
     "metadata": {},
     "output_type": "execute_result"
    }
   ],
   "source": [
    "from sklearn.model_selection import train_test_split\n",
    "x_train,x_test,y_train,y_test=train_test_split(x,y,random_state=10)\n",
    "print(x_train.shape)\n",
    "print(x_test.shape)\n",
    "knn=KNeighborsClassifier(n_neighbors=4)\n",
    "knn.fit(x_train,y_train)\n",
    "y_pred=knn.predict(x_test)\n",
    "metrics.accuracy_score(y_test,y_pred) "
   ]
  },
  {
   "cell_type": "code",
   "execution_count": 38,
   "metadata": {},
   "outputs": [
    {
     "name": "stdout",
     "output_type": "stream",
     "text": [
      "(15, 5)\n",
      "(6, 5)\n"
     ]
    },
    {
     "data": {
      "text/plain": [
       "0.3333333333333333"
      ]
     },
     "execution_count": 38,
     "metadata": {},
     "output_type": "execute_result"
    }
   ],
   "source": [
    "from sklearn.model_selection import train_test_split\n",
    "x_train,x_test,y_train,y_test=train_test_split(x,y,random_state=10)\n",
    "print(x_train.shape)\n",
    "print(x_test.shape)\n",
    "knn=KNeighborsClassifier(n_neighbors=4)\n",
    "knn.fit(x_train,y_train)\n",
    "y_pred=knn.predict(x_test)\n",
    "metrics.accuracy_score(y_test,y_pred) "
   ]
  },
  {
   "cell_type": "code",
   "execution_count": 39,
   "metadata": {},
   "outputs": [
    {
     "name": "stdout",
     "output_type": "stream",
     "text": [
      "(15, 5)\n",
      "(6, 5)\n"
     ]
    },
    {
     "data": {
      "text/plain": [
       "0.3333333333333333"
      ]
     },
     "execution_count": 39,
     "metadata": {},
     "output_type": "execute_result"
    }
   ],
   "source": [
    "from sklearn.model_selection import train_test_split\n",
    "x_train,x_test,y_train,y_test=train_test_split(x,y,random_state=10)\n",
    "print(x_train.shape)\n",
    "print(x_test.shape)\n",
    "knn=KNeighborsClassifier(n_neighbors=4)\n",
    "knn.fit(x_train,y_train)\n",
    "y_pred=knn.predict(x_test)\n",
    "metrics.accuracy_score(y_test,y_pred) "
   ]
  },
  {
   "cell_type": "code",
   "execution_count": 40,
   "metadata": {},
   "outputs": [
    {
     "name": "stdout",
     "output_type": "stream",
     "text": [
      "      0\n",
      "0  0.40\n",
      "1  0.25\n",
      "2  0.50\n",
      "3  0.75\n",
      "4  0.25\n"
     ]
    }
   ],
   "source": [
    "# Create the KNN model with cross validation - cv=5 using full data set\n",
    "\n",
    "from sklearn.model_selection import cross_val_score\n",
    "knn=KNeighborsClassifier(n_neighbors=4)\n",
    "knn_accuracies=cross_val_score(knn,x,y,cv=5)\n",
    "print(pd.DataFrame(knn_accuracies)) "
   ]
  },
  {
   "cell_type": "code",
   "execution_count": 41,
   "metadata": {},
   "outputs": [
    {
     "name": "stdout",
     "output_type": "stream",
     "text": [
      "Mean 0.43\n",
      "STD 0.18601075237738274\n"
     ]
    }
   ],
   "source": [
    "# Accuracy means and standard deviation\n",
    "\n",
    "print('Mean',knn_accuracies.mean())\n",
    "print('STD',knn_accuracies.std())"
   ]
  },
  {
   "cell_type": "code",
   "execution_count": 42,
   "metadata": {},
   "outputs": [
    {
     "name": "stdout",
     "output_type": "stream",
     "text": [
      "      0\n",
      "0  0.40\n",
      "1  0.75\n",
      "2  0.50\n",
      "3  0.25\n",
      "4  0.75\n"
     ]
    }
   ],
   "source": [
    "# Create the Logistic Regression model with cross validation - cv=5 using full data set\n",
    "\n",
    "from sklearn.linear_model import LogisticRegression\n",
    "logreg=LogisticRegression()\n",
    "logi_accuracies=cross_val_score(logreg,x,y,cv=5)\n",
    "print(pd.DataFrame(logi_accuracies))"
   ]
  },
  {
   "cell_type": "code",
   "execution_count": 43,
   "metadata": {},
   "outputs": [
    {
     "name": "stdout",
     "output_type": "stream",
     "text": [
      "Mean 0.53\n",
      "STD 0.19646882704388502\n"
     ]
    }
   ],
   "source": [
    "# Accuracy means and standard deviation\n",
    "\n",
    "print('Mean',logi_accuracies.mean())\n",
    "print('STD',logi_accuracies.std())"
   ]
  }
 ],
 "metadata": {
  "kernelspec": {
   "display_name": "base",
   "language": "python",
   "name": "python3"
  },
  "language_info": {
   "codemirror_mode": {
    "name": "ipython",
    "version": 3
   },
   "file_extension": ".py",
   "mimetype": "text/x-python",
   "name": "python",
   "nbconvert_exporter": "python",
   "pygments_lexer": "ipython3",
   "version": "3.11.5"
  }
 },
 "nbformat": 4,
 "nbformat_minor": 2
}
